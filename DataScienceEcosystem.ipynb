{
  "metadata": {
    "kernelspec": {
      "name": "python",
      "display_name": "Python (Pyodide)",
      "language": "python"
    },
    "language_info": {
      "codemirror_mode": {
        "name": "python",
        "version": 3
      },
      "file_extension": ".py",
      "mimetype": "text/x-python",
      "name": "python",
      "nbconvert_exporter": "python",
      "pygments_lexer": "ipython3",
      "version": "3.8"
    }
  },
  "nbformat_minor": 4,
  "nbformat": 4,
  "cells": [
    {
      "cell_type": "markdown",
      "source": "# Data Science Tools and Ecosystem",
      "metadata": {}
    },
    {
      "cell_type": "markdown",
      "source": "### In this notebook, Data Science Tools and Ecosystem are summarized.",
      "metadata": {}
    },
    {
      "cell_type": "markdown",
      "source": "### **Objectives:**\n- List popular languages for Data Science\n- Commonly used libraries used by Data Scientists\n- Evaluating arithmetic expressions\n- List of Open Source Data Science Tools\n- Performing Arithmatic Operations and Conversion",
      "metadata": {}
    },
    {
      "cell_type": "markdown",
      "source": "### Some of the popular languages that Data Scientists use are:\n1. Python\n2. R\n3. Julia\n4. SQL\n5. Java",
      "metadata": {}
    },
    {
      "cell_type": "markdown",
      "source": "### Some of the commonly used libraries used by Data Scientists include:\n1. Pandas\n2. Matplotlib\n3. Tensorflow\n4. Numpy\n5. Scikit-Learn",
      "metadata": {}
    },
    {
      "cell_type": "markdown",
      "source": "| Data Science Tools|\n| -------------|\n| Jupyter Notebooks|\n| Git|\n| Watson Studio|",
      "metadata": {}
    },
    {
      "cell_type": "markdown",
      "source": "### Below are a few examples of evaluating arithmetic expressions in Python\n- Addition (+)\n- Subtraction (-)\n- Multiplication (*)\n- Division (/)",
      "metadata": {}
    },
    {
      "cell_type": "code",
      "source": "a=10\nb=20\nc=a+b\nprint(c)\nd=a-b\nprint(d)\ne=b-a\nprint(e)",
      "metadata": {
        "trusted": true
      },
      "outputs": [
        {
          "name": "stdout",
          "text": "30\n-10\n10\n",
          "output_type": "stream"
        }
      ],
      "execution_count": 6
    },
    {
      "cell_type": "markdown",
      "source": "### This a simple arithmetic expression to mutiply then add integers",
      "metadata": {}
    },
    {
      "cell_type": "code",
      "source": "a=(3*4)+5\nprint(a)",
      "metadata": {
        "trusted": true
      },
      "outputs": [
        {
          "name": "stdout",
          "text": "17\n",
          "output_type": "stream"
        }
      ],
      "execution_count": 8
    },
    {
      "cell_type": "markdown",
      "source": "### This will convert 200 minutes to hours by diving by 60",
      "metadata": {}
    },
    {
      "cell_type": "code",
      "source": "a=200/60\nprint(\"200 mins has \", a, \"Hours\")",
      "metadata": {
        "trusted": true
      },
      "outputs": [
        {
          "name": "stdout",
          "text": "200 mins has  3.3333333333333335 Hours\n",
          "output_type": "stream"
        }
      ],
      "execution_count": 16
    },
    {
      "cell_type": "markdown",
      "source": "## Author\nAnkit Sharma",
      "metadata": {}
    },
    {
      "cell_type": "code",
      "source": "",
      "metadata": {
        "trusted": true
      },
      "outputs": [],
      "execution_count": null
    }
  ]
}